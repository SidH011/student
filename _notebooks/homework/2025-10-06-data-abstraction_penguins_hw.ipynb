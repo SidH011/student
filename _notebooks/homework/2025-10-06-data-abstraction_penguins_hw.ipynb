{
 "cells": [
  {
   "cell_type": "raw",
   "id": "244ca838",
   "metadata": {
    "vscode": {
     "languageId": "raw"
    }
   },
   "source": [
    "---\n",
    "layout: post\n",
    "title: Penguins - Data Abstraction Homework\n",
    "permalink: /javascript/data-abstraction/penguins-hw\n",
    "description: Penguins group data abstraction lesson homework\n",
    "category: [JavaScript]\n",
    "author: Jonah Larsson, Aarush Bandi, Sri Rohit Varma Datla\n",
    "---"
   ]
  },
  {
   "cell_type": "markdown",
   "id": "4e3ab516",
   "metadata": {},
   "source": [
    "# Penguins JS Lessons\n",
    "\n",
    "<a href=\"https://github.com/Open-Coding-Society/pages/blob/main/_notebooks/CSSE/JavaScriptLessons/Data_Abstractions/2025-10-06-data-abstraction_penguins_hw.ipynb\" download><b>Download Homework</b></a> <br/>\n",
    "<a href=\"https://docs.google.com/forms/d/e/1FAIpQLSfwgZR0QYAg_uYuZ7XqqEm-xlU0-gZFE2dtgnKEe5kH7Yp0Vg/viewform?usp=sharing&ouid=105179298243342263196\"><b>Submission Google Form for Homework</b></a>\n",
    "\n",
    "## **Data Abstraction Homework**\n",
    "In order to learn this subject of programming well, you have to practice:\n",
    "\n",
    "> Popcorn hack 1: Data Abstraction with functions\n",
    "\n",
    "> Popcorn hack 2: Data abstraction with classes\n",
    "\n",
    "> Final Task: Building a player system using classes and functions\n",
    "\n",
    "---"
   ]
  },
  {
   "cell_type": "markdown",
   "id": "ae486711",
   "metadata": {},
   "source": [
    "## <b>Popcorn Hack 1 (Progress Check)</b>\n",
    "\n",
    "Data abstraction with functions:\n",
    "\n",
    "**Part 1:** Edit the `Account()` function to print out the username and password to the console using console.log().\n",
    "\n",
    "**Part 2:** Edit the `ChangeUsername()` function to accept a `newUsername` parameter, then set the `username` variable to the `newUsername` parameter.\n",
    "\n",
    "**Part 3:** Edit the `ChangePassword()` function to accept a `newPassword` parameter, then set the `password` variable to the `newPassword` parameter.\n",
    "\n",
    "**Part 4:** Make the `Login()` function check if the parameters `_username` and `_password` are equal to the `username` and `password` variables, then print out if the login succeeded or failed using console.log()."
   ]
  },
  {
   "cell_type": "code",
   "execution_count": 5,
   "id": "ef977706",
   "metadata": {
    "vscode": {
     "languageId": "javascript"
    }
   },
   "outputs": [
    {
     "data": {
      "application/javascript": "let username = \"Giuseppe\";\nlet password = \"giuseppe_very_awesome_password\";\n\n// Part 1: Print username and password\nfunction Account() {\n    console.log(\"Username:\", username);\n    console.log(\"Password:\", password);\n}\n\n// Part 2: Change the username\nfunction ChangeUsername(newUsername) {\n    username = newUsername;\n    console.log(\"Username changed to:\", username);\n}\n\n// Part 3: Change the password\nfunction ChangePassword(newPassword) {\n    password = newPassword;\n    console.log(\"Password changed to:\", password);\n}\n\n// Part 4: Login check\nfunction Login(_username, _password) {\n    if (_username === username && _password === password) {\n        console.log(\"Login successful!\");\n        return true;\n    } else {\n        console.log(\"Login failed!\");\n        return false;\n    }\n}\n\n// --- CALL FUNCTIONS TO PRODUCE OUTPUT ---\nAccount();                     // Show current credentials\nChangeUsername(\"Giuseppino\");  // Update username\nChangePassword(\"new_password\"); // Update password\nLogin(\"Giuseppino\", \"new_password\"); // Correct login\nLogin(\"Giuseppe\", \"wrong\");    // Failed login\n",
      "text/plain": [
       "<IPython.core.display.Javascript object>"
      ]
     },
     "metadata": {},
     "output_type": "display_data"
    }
   ],
   "source": [
    "%%javascript\n",
    "let username = \"Giuseppe\";\n",
    "let password = \"giuseppe_very_awesome_password\";\n",
    "\n",
    "// Part 1: Print username and password\n",
    "function Account() {\n",
    "    console.log(\"Username:\", username);\n",
    "    console.log(\"Password:\", password);\n",
    "}\n",
    "\n",
    "// Part 2: Change the username\n",
    "function ChangeUsername(newUsername) {\n",
    "    username = newUsername;\n",
    "    console.log(\"Username changed to:\", username);\n",
    "}\n",
    "\n",
    "// Part 3: Change the password\n",
    "function ChangePassword(newPassword) {\n",
    "    password = newPassword;\n",
    "    console.log(\"Password changed to:\", password);\n",
    "}\n",
    "\n",
    "// Part 4: Login check\n",
    "function Login(_username, _password) {\n",
    "    if (_username === username && _password === password) {\n",
    "        console.log(\"Login successful!\");\n",
    "        return true;\n",
    "    } else {\n",
    "        console.log(\"Login failed!\");\n",
    "        return false;\n",
    "    }\n",
    "}\n",
    "\n",
    "// --- CALL FUNCTIONS TO PRODUCE OUTPUT ---\n",
    "Account();                     // Show current credentials\n",
    "ChangeUsername(\"Giuseppino\");  // Update username\n",
    "ChangePassword(\"new_password\"); // Update password\n",
    "Login(\"Giuseppino\", \"new_password\"); // Correct login\n",
    "Login(\"Giuseppe\", \"wrong\");    // Failed login\n"
   ]
  },
  {
   "cell_type": "markdown",
   "id": "a45fb3f1",
   "metadata": {},
   "source": [
    "---\n",
    "\n",
    "## <b>Popcorn Hack 2 (Progress Check)</b>\n",
    "\n",
    "Use the examples provided in the lesson if you're stuck.\n",
    "\n",
    "**Part 1:** Make a class named `House`\n",
    "\n",
    "**Part 2:** Make a constructor for the `House` class with the parameters cost, age, and size\n",
    "\n",
    "**Part 3:** Make an instance of the House class with the name myHouse and fill the parameters with any numbers you want.\n",
    "\n",
    "Write your code down here:"
   ]
  },
  {
   "cell_type": "code",
   "execution_count": 7,
   "id": "bb7a40cf",
   "metadata": {
    "vscode": {
     "languageId": "javascript"
    }
   },
   "outputs": [
    {
     "data": {
      "application/javascript": "// Part 1: Create the House class\nclass House {\n    // Part 2: Constructor with cost, age, and size\n    constructor(cost, age, size) {\n        this.cost = cost;\n        this.age = age;\n        this.size = size;\n    }\n\n    // Optional: a method to display house info\n    displayInfo() {\n        console.log(`House cost: $${this.cost}, Age: ${this.age} years, Size: ${this.size} sq ft`);\n    }\n}\n\n// Part 3: Create an instance of House\nlet myHouse = new House(250000, 10, 2000);\n\n// Optional: Display info about the house\nmyHouse.displayInfo();\n",
      "text/plain": [
       "<IPython.core.display.Javascript object>"
      ]
     },
     "metadata": {},
     "output_type": "display_data"
    }
   ],
   "source": [
    "%%javascript\n",
    "// Part 1: Create the House class\n",
    "class House {\n",
    "    // Part 2: Constructor with cost, age, and size\n",
    "    constructor(cost, age, size) {\n",
    "        this.cost = cost;\n",
    "        this.age = age;\n",
    "        this.size = size;\n",
    "    }\n",
    "\n",
    "    // Optional: a method to display house info\n",
    "    displayInfo() {\n",
    "        console.log(`House cost: $${this.cost}, Age: ${this.age} years, Size: ${this.size} sq ft`);\n",
    "    }\n",
    "}\n",
    "\n",
    "// Part 3: Create an instance of House\n",
    "let myHouse = new House(250000, 10, 2000);\n",
    "\n",
    "// Optional: Display info about the house\n",
    "myHouse.displayInfo();\n"
   ]
  },
  {
   "cell_type": "markdown",
   "id": "de48f604",
   "metadata": {},
   "source": [
    "---\n",
    "\n",
    "## <b>Final task</b>\n",
    "\n",
    "**Part 1:** Create 2 variables in the constructor like this: this.variableName = something. \n",
    "These variables will be called: `this.positionX`, `this.velocityX`.\n",
    "\n",
    "**Part 2:** Create 2 methods called `MoveLeft()` and `MoveRight()`, <br>\n",
    "inside MoveLeft() set 'this.velocityX' to -200. <br>\n",
    "inside MoveRight() set 'this.velocityX' to 200.\n",
    "\n",
    "**Part 3:** Create a function called `UpdatePosition()`. Inside this function, add 'this.velocityX' to 'this.positionX'\n",
    "\n",
    "**Part 4:** Call each method (MoveLeft(), MoveRight(), UpdatePosition() ), on the player object."
   ]
  },
  {
   "cell_type": "code",
   "execution_count": 12,
   "id": "81c4882b",
   "metadata": {
    "vscode": {
     "languageId": "javascript"
    }
   },
   "outputs": [
    {
     "data": {
      "application/javascript": "// Final Task Code\nclass Player {\n    // Part 1: Constructor with positionX and velocityX\n    constructor() {\n        this.positionX = 0;\n        this.velocityX = 0;\n    }\n\n    // Part 2: MoveLeft and MoveRight methods\n    MoveLeft() {\n        this.velocityX = -200;\n    }\n\n    MoveRight() {\n        this.velocityX = 200;\n    }\n\n    // Part 3: UpdatePosition method\n    UpdatePosition() {\n        this.positionX += this.velocityX;\n    }\n}\n\n// Part 4: Create a player object\nlet player = new Player();\n\n// Call the functions on player\nplayer.MoveLeft();       // sets velocityX to -200\nplayer.UpdatePosition(); // positionX = -200\nplayer.MoveRight();      // sets velocityX to 200\nplayer.UpdatePosition(); // positionX = 0\n\n// Optional: log final values to console\nconsole.log(\"Final positionX:\", player.positionX);\nconsole.log(\"Final velocityX:\", player.velocityX);\n",
      "text/plain": [
       "<IPython.core.display.Javascript object>"
      ]
     },
     "metadata": {},
     "output_type": "display_data"
    }
   ],
   "source": [
    "%%javascript\n",
    "// Final Task Code\n",
    "class Player {\n",
    "    // Part 1: Constructor with positionX and velocityX\n",
    "    constructor() {\n",
    "        this.positionX = 0;\n",
    "        this.velocityX = 0;\n",
    "    }\n",
    "\n",
    "    // Part 2: MoveLeft and MoveRight methods\n",
    "    MoveLeft() {\n",
    "        this.velocityX = -200;\n",
    "    }\n",
    "\n",
    "    MoveRight() {\n",
    "        this.velocityX = 200;\n",
    "    }\n",
    "\n",
    "    // Part 3: UpdatePosition method\n",
    "    UpdatePosition() {\n",
    "        this.positionX += this.velocityX;\n",
    "    }\n",
    "}\n",
    "\n",
    "// Part 4: Create a player object\n",
    "let player = new Player();\n",
    "\n",
    "// Call the functions on player\n",
    "player.MoveLeft();       // sets velocityX to -200\n",
    "player.UpdatePosition(); // positionX = -200\n",
    "player.MoveRight();      // sets velocityX to 200\n",
    "player.UpdatePosition(); // positionX = 0\n",
    "\n",
    "// Optional: log final values to console\n",
    "console.log(\"Final positionX:\", player.positionX);\n",
    "console.log(\"Final velocityX:\", player.velocityX);\n"
   ]
  },
  {
   "cell_type": "markdown",
   "id": "7042352e",
   "metadata": {},
   "source": [
    "---\n",
    "\n",
    "<b>Grading</b>\n",
    "\n",
    "Popcorn Hack 1: Completion gives 0.2 points.<br/><br/>\n",
    "Popcorn Hack 2: Completion gives 0.3 points.<br/><br/>\n",
    "\n",
    "Final Task: Completion gives 0.5 points. Max of 0.02 extra points from extra work relevant to the subject or finishing assignment in a way that shows exceptional comprehension of the lesson.\n",
    "\n",
    "<br>\n",
    "<b><u>Make sure to submit your homework deployed link onto the global homework submission google sheet</u><b>\n",
    "\n",
    "<a href=\"https://docs.google.com/forms/d/e/1FAIpQLSfwgZR0QYAg_uYuZ7XqqEm-xlU0-gZFE2dtgnKEe5kH7Yp0Vg/viewform?usp=sharing&ouid=105179298243342263196\"><b>Submission Google Form for Homework</b></a>"
   ]
  }
 ],
 "metadata": {
  "kernelspec": {
   "display_name": "venv (3.12.3)",
   "language": "python",
   "name": "python3"
  },
  "language_info": {
   "codemirror_mode": {
    "name": "ipython",
    "version": 3
   },
   "file_extension": ".py",
   "mimetype": "text/x-python",
   "name": "python",
   "nbconvert_exporter": "python",
   "pygments_lexer": "ipython3",
   "version": "3.12.3"
  }
 },
 "nbformat": 4,
 "nbformat_minor": 5
}
