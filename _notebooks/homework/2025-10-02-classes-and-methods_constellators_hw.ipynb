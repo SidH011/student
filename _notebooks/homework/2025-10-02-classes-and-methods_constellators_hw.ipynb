{
 "cells": [
  {
   "cell_type": "markdown",
   "id": "3ddc81e9",
   "metadata": {},
   "source": [
    "---\n",
    "layout: post\n",
    "toc: True\n",
    "breadcrumb: True\n",
    "title: CSSE Classes and Methods HW\n",
    "description: These are the homework problems and popcorn hacks.\n",
    "permalink: /csse/fall_2025/javascript/classes-and-methods/homework\n",
    "author: Adya S, Niharika B, Salma Z, Anika S, Sophie H\n",
    "---"
   ]
  },
  {
   "cell_type": "markdown",
   "id": "04a627a9",
   "metadata": {},
   "source": [
    "## **Classes and Methods**"
   ]
  },
  {
   "cell_type": "markdown",
   "id": "a88704ec",
   "metadata": {},
   "source": [
    "### <u>Popcorn Hack 1 - Dice Roller</u>\n",
    "\n",
    "\n",
    "Instructions:\n",
    "Finish the code in the cell below (fill in underlines and add lines of code) so it works as described:\n",
    "\n",
    "- Create a class called Dice that:\n",
    "    - Has a property for the number of sides.\n",
    "    - Has a method roll() that returns a random number between 1 and the number of sides.\n",
    "\n",
    "\n",
    "At the bottom, test your game by making a DiceGame object and calling roll() a few times.\n",
    "\n",
    "The code is currently NOT functional. When you have completed this popcorn hack, the code should work. Have fun!"
   ]
  },
  {
   "cell_type": "code",
   "execution_count": 10,
   "id": "83cfb441",
   "metadata": {
    "vscode": {
     "languageId": "javascript"
    }
   },
   "outputs": [
    {
     "name": "stderr",
     "output_type": "stream",
     "text": [
      "UsageError: Cell magic `%%` not found.\n"
     ]
    }
   ],
   "source": [
    "%% javascript\n",
    "\n",
    "class Dice { // Name of the class\n",
    "  constructor(sides) { // Constructor to initialize the number of sides\n",
    "    this.sides = sides; // Number of sides on the dice\n",
    "  }\n",
    "\n",
    "  roll() { // Method name\n",
    "    return Math.floor(Math.random() * this.sides) + 1; // Rolls the dice and returns a number between 1 and the number of sides\n",
    "  }\n",
    "}\n",
    "\n",
    "// Test the Dice class:\n",
    "const myDice = new Dice(6); // Create a 6-sided dice\n",
    "\n",
    "console.log(\"Rolling the dice...\");\n",
    "console.log(myDice.roll());\n",
    "console.log(myDice.roll());\n",
    "console.log(myDice.roll());"
   ]
  },
  {
   "cell_type": "markdown",
   "id": "eb525919",
   "metadata": {},
   "source": [
    "### <u>Popcorn Hack 2 - Pet Simulator</u>\n",
    "\n",
    "\n",
    "This hack is a bit more complicated than the first. Points will be awarded based on effort and completion.\n",
    "\n",
    "\n",
    "Analyze the block of code below. Then, complete the following instructions:\n",
    "\n",
    "\n",
    "1) Create a simple Pet class by filling in the _________.\n",
    "\n",
    "2) Add at least 2 properties (like hunger, energy, or happiness). EX: Stats decrease over time.\n",
    "\n",
    "3) Add at least two functioning methods (such as feed, play, or sleep) EX: Buttons increase stats.\n",
    "\n",
    "4) Give your pet a name and print their current properties.\n",
    "\n",
    "5) Bonus: Add a \"status\" method to print all your pet's stats.\n",
    "\n",
    "\n",
    "The code is currently NOT functional. When you have completed this popcorn hack, the code should work. Have fun!\n",
    "\n"
   ]
  },
  {
   "cell_type": "code",
   "execution_count": null,
   "id": "740b316c",
   "metadata": {
    "vscode": {
     "languageId": "javascript"
    }
   },
   "outputs": [
    {
     "data": {
      "application/javascript": "\nclass pet {\n  constructor(name) {\n    this.name = name;\n    this.hunger = 5;\n    this.energy = 5;\n    this.happiness = 5;\n  }\n\n  feed() {\n    this.hunger -= 1;\n    this.energy += 1;\n    this.happiness += 1;\n    console.log(this.name + \" has been fed!\");\n  }\n\n  play() {\n    this.hunger += 1;\n    this.energy -= 1;\n    this.happiness += 1;\n    console.log(this.name + \" played and is happy!\");\n  }\n}\n\nconst myPet = new pet(\"Ethan\");\nconsole.log(myPet);\noutput.innerText = myPet.name + \"'s stats → Hunger: \" + myPet.hunger + \", Energy: \" + myPet.energy + \", Happiness: \" + myPet.happiness;\n\nmyPet.feed();\nmyPet.play();\n",
      "text/plain": [
       "<IPython.core.display.Javascript object>"
      ]
     },
     "metadata": {},
     "output_type": "display_data"
    }
   ],
   "source": [
    "%%javascript\n",
    "\n",
    "class pet {\n",
    "  constructor(name) {\n",
    "    this.name = name;\n",
    "    this.hunger = 5;\n",
    "    this.energy = 5;\n",
    "    this.happiness = 5;\n",
    "  }\n",
    "\n",
    "  feed() {\n",
    "    this.hunger -= 1;\n",
    "    this.energy += 1;\n",
    "    this.happiness += 1;\n",
    "    console.log(this.name + \" has been fed!\");\n",
    "  }\n",
    "\n",
    "  play() {\n",
    "    this.hunger += 1;\n",
    "    this.energy -= 1;\n",
    "    this.happiness += 1;\n",
    "    console.log(this.name + \" played and is happy!\");\n",
    "  }\n",
    "\n",
    "  // Bonus: status method\n",
    "  status() {\n",
    "    console.log(this.name + \"'s stats → Hunger: \" + this.hunger + \", Energy: \" + this.energy + \", Happiness: \" + this.happiness);\n",
    "    output.innerText = this.name + \"'s stats → Hunger: \" + this.hunger + \", Energy: \" + this.energy + \", Happiness: \" + this.happiness;\n",
    "  }\n",
    "}\n",
    "\n",
    "const myPet = new pet(\"Ethan\");\n",
    "console.log(myPet);\n",
    "output.innerText = myPet.name + \"'s stats → Hunger: \" + myPet.hunger + \", Energy: \" + myPet.energy + \", Happiness: \" + myPet.happiness;\n",
    "\n",
    "myPet.feed();\n",
    "myPet.play();\n",
    "myPet.status(); // shows all current stats\n"
   ]
  },
  {
   "cell_type": "markdown",
   "id": "e7ae67bd",
   "metadata": {},
   "source": [
    "### <u>Homework</u>\n",
    "\n",
    "Complete the following questions in the next code block.\n",
    "\n",
    "1) Create a class Person with properties 'name' and 'age'. Print their properties.\n",
    "\n",
    "2) Add a method greet() to your Person class that prints a greeting using the person's name.\n",
    "\n",
    "3) Create a class Book with properties 'title', 'author', and 'pages'. Instantiate a book and print its properties.\n",
    "\n",
    "4) Add a method read(pages) to your Book class that increments a pagesRead property and prints a message.\n",
    "\n",
    "5) Add a method isLongBook() that returns true if pages > 300, otherwise false. Print the result for your book.\n",
    "\n",
    "6) Create a class Car with properties 'make', 'model', and 'fuel'. Add methods drive(distance) and refuel(amount). Print messages in each method.\n",
    "\n",
    "7) Add a static method info() to your Car class that prints 'Cars are vehicles.'\n",
    "\n",
    "8) Create a class ElectricCar that extends Car. Add a property 'battery' and a method charge(amount) that increases battery. Print battery level after charging.\n",
    "\n",
    "10) Create a routine that combines your objects: drive a Car, charge an ElectricCar, read pages from a Book, and call greet() on Person. Print outputs for each action.\n",
    "\n",
    "11) **Extra Credit:** Submit the original OOP Breakout Game Code (found on [OpenCS](https://github.com/Open-Coding-Society/pages/blob/main/hacks/breakout/breakout.md?plain=1)) after making the following edits:\n",
    "- Add another feature to the game: Add a method so that the ball must collide with some bricks twice for a brick to break completely.\n",
    "- Edit a method in the ball class to increase/decrease the speed of the ball: Please add a COMMENT on the game code that specifies which line you edited."
   ]
  },
  {
   "cell_type": "code",
   "execution_count": 8,
   "id": "52d29f28",
   "metadata": {
    "vscode": {
     "languageId": "javascript"
    }
   },
   "outputs": [
    {
     "data": {
      "application/javascript": "\nconsole.log(\"Code, code, code!\");\n",
      "text/plain": [
       "<IPython.core.display.Javascript object>"
      ]
     },
     "metadata": {},
     "output_type": "display_data"
    }
   ],
   "source": [
    "%%javascript\n",
    "\n",
    "console.log(\"Code, code, code!\");"
   ]
  }
 ],
 "metadata": {
  "kernelspec": {
   "display_name": "venv (3.12.3)",
   "language": "python",
   "name": "python3"
  },
  "language_info": {
   "codemirror_mode": {
    "name": "ipython",
    "version": 3
   },
   "file_extension": ".py",
   "mimetype": "text/x-python",
   "name": "python",
   "nbconvert_exporter": "python",
   "pygments_lexer": "ipython3",
   "version": "3.12.3"
  }
 },
 "nbformat": 4,
 "nbformat_minor": 5
}
