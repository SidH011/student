{
 "cells": [
  {
   "cell_type": "markdown",
   "id": "3ddc81e9",
   "metadata": {},
   "source": [
    "---\n",
    "layout: post\n",
    "toc: True\n",
    "breadcrumb: True\n",
    "title: CSSE Classes and Methods HW\n",
    "description: These are the homework problems and popcorn hacks.\n",
    "permalink: /csse/fall_2025/javascript/classes-and-methods/homework\n",
    "author: Adya S, Niharika B, Salma Z, Anika S, Sophie H\n",
    "---"
   ]
  },
  {
   "cell_type": "markdown",
   "id": "04a627a9",
   "metadata": {},
   "source": [
    "## **Classes and Methods**"
   ]
  },
  {
   "cell_type": "markdown",
   "id": "a88704ec",
   "metadata": {},
   "source": [
    "### <u>Popcorn Hack 1 - Dice Roller</u>\n",
    "\n",
    "\n",
    "Instructions:\n",
    "Finish the code in the cell below (fill in underlines and add lines of code) so it works as described:\n",
    "\n",
    "- Create a class called Dice that:\n",
    "    - Has a property for the number of sides.\n",
    "    - Has a method roll() that returns a random number between 1 and the number of sides.\n",
    "\n",
    "\n",
    "At the bottom, test your game by making a DiceGame object and calling roll() a few times.\n",
    "\n",
    "The code is currently NOT functional. When you have completed this popcorn hack, the code should work. Have fun!"
   ]
  },
  {
   "cell_type": "code",
   "execution_count": 1,
   "id": "83cfb441",
   "metadata": {
    "vscode": {
     "languageId": "javascript"
    }
   },
   "outputs": [
    {
     "data": {
      "application/javascript": "\nclass Dice {\n  constructor(sides) {\n    this.sides = sides; // number of sides on the dice\n  }\n\n  roll() {\n    return Math.floor(Math.random() * this.sides) + 1; // random number between 1 and sides\n  }\n}\n\n// Test the Dice class\nconst myDice = new Dice(6); // create a 6-sided dice\n\nconsole.log(\"Rolling the dice...\");\nconsole.log(myDice.roll());\nconsole.log(myDice.roll());\nconsole.log(myDice.roll());\n",
      "text/plain": [
       "<IPython.core.display.Javascript object>"
      ]
     },
     "metadata": {},
     "output_type": "display_data"
    }
   ],
   "source": [
    "%%javascript\n",
    "\n",
    "class Dice {\n",
    "  constructor(sides) {\n",
    "    this.sides = sides; // number of sides on the dice\n",
    "  }\n",
    "\n",
    "  roll() {\n",
    "    return Math.floor(Math.random() * this.sides) + 1; // random number between 1 and sides\n",
    "  }\n",
    "}\n",
    "\n",
    "// Test the Dice class\n",
    "const myDice = new Dice(6); // create a 6-sided dice\n",
    "\n",
    "console.log(\"Rolling the dice...\");\n",
    "console.log(myDice.roll());\n",
    "console.log(myDice.roll());\n",
    "console.log(myDice.roll());"
   ]
  },
  {
   "cell_type": "markdown",
   "id": "eb525919",
   "metadata": {},
   "source": [
    "### <u>Popcorn Hack 2 - Pet Simulator</u>\n",
    "\n",
    "\n",
    "This hack is a bit more complicated than the first. Points will be awarded based on effort and completion.\n",
    "\n",
    "\n",
    "Analyze the block of code below. Then, complete the following instructions:\n",
    "\n",
    "\n",
    "1) Create a simple Pet class by filling in the _________.\n",
    "\n",
    "2) Add at least 2 properties (like hunger, energy, or happiness). EX: Stats decrease over time.\n",
    "\n",
    "3) Add at least two functioning methods (such as feed, play, or sleep) EX: Buttons increase stats.\n",
    "\n",
    "4) Give your pet a name and print their current properties.\n",
    "\n",
    "5) Bonus: Add a \"status\" method to print all your pet's stats.\n",
    "\n",
    "\n",
    "The code is currently NOT functional. When you have completed this popcorn hack, the code should work. Have fun!\n",
    "\n"
   ]
  },
  {
   "cell_type": "code",
   "execution_count": 2,
   "id": "740b316c",
   "metadata": {
    "vscode": {
     "languageId": "javascript"
    }
   },
   "outputs": [
    {
     "data": {
      "application/javascript": "\nclass pet {\n  constructor(name) {\n    this.name = name;\n    this.hunger = 5;\n    this.energy = 5;\n    this.happiness = 5;\n  }\n\n  feed() {\n    this.hunger -= 1;\n    this.energy += 1;\n    this.happiness += 1;\n    console.log(this.name + \" has been fed!\");\n  }\n\n  play() {\n    this.hunger += 1;\n    this.energy -= 1;\n    this.happiness += 1;\n    console.log(this.name + \" played and is happy!\");\n  }\n\n  // Bonus: status method\n  status() {\n    console.log(this.name + \"'s stats → Hunger: \" + this.hunger + \", Energy: \" + this.energy + \", Happiness: \" + this.happiness);\n    output.innerText = this.name + \"'s stats → Hunger: \" + this.hunger + \", Energy: \" + this.energy + \", Happiness: \" + this.happiness;\n  }\n}\n\nconst myPet = new pet(\"Ethan\");\nconsole.log(myPet);\noutput.innerText = myPet.name + \"'s stats → Hunger: \" + myPet.hunger + \", Energy: \" + myPet.energy + \", Happiness: \" + myPet.happiness;\n\nmyPet.feed();\nmyPet.play();\nmyPet.status(); // shows all current stats\n",
      "text/plain": [
       "<IPython.core.display.Javascript object>"
      ]
     },
     "metadata": {},
     "output_type": "display_data"
    }
   ],
   "source": [
    "%%javascript\n",
    "\n",
    "class pet {\n",
    "  constructor(name) {\n",
    "    this.name = name;\n",
    "    this.hunger = 5;\n",
    "    this.energy = 5;\n",
    "    this.happiness = 5;\n",
    "  }\n",
    "\n",
    "  feed() {\n",
    "    this.hunger -= 1;\n",
    "    this.energy += 1;\n",
    "    this.happiness += 1;\n",
    "    console.log(this.name + \" has been fed!\");\n",
    "  }\n",
    "\n",
    "  play() {\n",
    "    this.hunger += 1;\n",
    "    this.energy -= 1;\n",
    "    this.happiness += 1;\n",
    "    console.log(this.name + \" played and is happy!\");\n",
    "  }\n",
    "\n",
    "  // Bonus: status method\n",
    "  status() {\n",
    "    console.log(this.name + \"'s stats → Hunger: \" + this.hunger + \", Energy: \" + this.energy + \", Happiness: \" + this.happiness);\n",
    "    output.innerText = this.name + \"'s stats → Hunger: \" + this.hunger + \", Energy: \" + this.energy + \", Happiness: \" + this.happiness;\n",
    "  }\n",
    "}\n",
    "\n",
    "const myPet = new pet(\"Ethan\");\n",
    "console.log(myPet);\n",
    "output.innerText = myPet.name + \"'s stats → Hunger: \" + myPet.hunger + \", Energy: \" + myPet.energy + \", Happiness: \" + myPet.happiness;\n",
    "\n",
    "myPet.feed();\n",
    "myPet.play();\n",
    "myPet.status(); // shows all current stats\n"
   ]
  },
  {
   "cell_type": "markdown",
   "id": "e7ae67bd",
   "metadata": {},
   "source": [
    "### <u>Homework</u>\n",
    "\n",
    "Complete the following questions in the next code block.\n",
    "\n",
    "1) Create a class Person with properties 'name' and 'age'. Print their properties.\n",
    "\n",
    "2) Add a method greet() to your Person class that prints a greeting using the person's name.\n",
    "\n",
    "3) Create a class Book with properties 'title', 'author', and 'pages'. Instantiate a book and print its properties.\n",
    "\n",
    "4) Add a method read(pages) to your Book class that increments a pagesRead property and prints a message.\n",
    "\n",
    "5) Add a method isLongBook() that returns true if pages > 300, otherwise false. Print the result for your book.\n",
    "\n",
    "6) Create a class Car with properties 'make', 'model', and 'fuel'. Add methods drive(distance) and refuel(amount). Print messages in each method.\n",
    "\n",
    "7) Add a static method info() to your Car class that prints 'Cars are vehicles.'\n",
    "\n",
    "8) Create a class ElectricCar that extends Car. Add a property 'battery' and a method charge(amount) that increases battery. Print battery level after charging.\n",
    "\n",
    "10) Create a routine that combines your objects: drive a Car, charge an ElectricCar, read pages from a Book, and call greet() on Person. Print outputs for each action.\n",
    "\n",
    "11) **Extra Credit:** Submit the original OOP Breakout Game Code (found on [OpenCS](https://github.com/Open-Coding-Society/pages/blob/main/hacks/breakout/breakout.md?plain=1)) after making the following edits:\n",
    "- Add another feature to the game: Add a method so that the ball must collide with some bricks twice for a brick to break completely.\n",
    "- Edit a method in the ball class to increase/decrease the speed of the ball: Please add a COMMENT on the game code that specifies which line you edited."
   ]
  },
  {
   "cell_type": "code",
   "execution_count": null,
   "id": "52d29f28",
   "metadata": {
    "vscode": {
     "languageId": "javascript"
    }
   },
   "outputs": [
    {
     "data": {
      "application/javascript": "\n// 1) Person class\nclass Person {\n    constructor(name, age) {\n        this.name = name;\n        this.age = age;\n    }\n\n    // 2) greet method\n    greet() {\n        console.log(\"Hello! My name is \" + this.name);\n    }\n}\n\n// Test Person\nconst person1 = new Person(\"Alice\", 25);\nconsole.log(person1);\nperson1.greet();\n\n// 3) Book class\nclass Book {\n    constructor(title, author, pages) {\n        this.title = title;\n        this.author = author;\n        this.pages = pages;\n        this.pagesRead = 0;\n    }\n\n    // 4) read method\n    read(pages) {\n        this.pagesRead += pages;\n        console.log(`You read ${pages} pages of \"${this.title}\". Total read: ${this.pagesRead}`);\n    }\n\n    // 5) isLongBook method\n    isLongBook() {\n        return this.pages > 300;\n    }\n}\n\n// Test Book\nconst book1 = new Book(\"JavaScript Basics\", \"John Doe\", 350);\nconsole.log(book1);\nbook1.read(50);\nconsole.log(\"Is it a long book? \" + book1.isLongBook());\n\n// 6) Car class\nclass Car {\n    constructor(make, model, fuel) {\n        this.make = make;\n        this.model = model;\n        this.fuel = fuel; // in liters\n    }\n\n    drive(distance) {\n        let fuelUsed = distance / 10; // assume 10 km per liter\n        this.fuel -= fuelUsed;\n        console.log(`Drove ${distance} km. Fuel left: ${this.fuel.toFixed(2)} liters`);\n    }\n\n    refuel(amount) {\n        this.fuel += amount;\n        console.log(`Refueled ${amount} liters. Fuel now: ${this.fuel.toFixed(2)} liters`);\n    }\n\n    // 7) static info method\n    static info() {\n        console.log(\"Cars are vehicles.\");\n    }\n}\n\n// Test Car\nconst car1 = new Car(\"Toyota\", \"Corolla\", 50);\nconsole.log(car1);\ncar1.drive(100);\ncar1.refuel(20);\nCar.info();\n\n// 8) ElectricCar subclass\nclass ElectricCar extends Car {\n    constructor(make, model, fuel, battery) {\n        super(make, model, fuel);\n        this.battery = battery; // percentage\n    }\n\n    charge(amount) {\n        this.battery += amount;\n        if (this.battery > 100) this.battery = 100;\n        console.log(`Charged battery. Battery level: ${this.battery}%`);\n    }\n}\n\n// Test ElectricCar\nconst eCar1 = new ElectricCar(\"Tesla\", \"Model 3\", 0, 50);\nconsole.log(eCar1);\neCar1.charge(30);\n\n// 10) Routine combining objects\nconsole.log(\"\\n--- Routine ---\");\ncar1.drive(50);\neCar1.charge(20);\nbook1.read(30);\nperson1.greet();\n",
      "text/plain": [
       "<IPython.core.display.Javascript object>"
      ]
     },
     "metadata": {},
     "output_type": "display_data"
    }
   ],
   "source": [
    "%%javascript\n",
    "\n",
    "// 1) Person class\n",
    "class Person {\n",
    "    constructor(name, age) {\n",
    "        this.name = name;\n",
    "        this.age = age;\n",
    "    }\n",
    "\n",
    "    // 2) greet method\n",
    "    greet() {\n",
    "        console.log(\"Hello! My name is \" + this.name);\n",
    "    }\n",
    "}\n",
    "\n",
    "// Test Person\n",
    "const person1 = new Person(\"Alice\", 25);\n",
    "console.log(person1);\n",
    "person1.greet();\n",
    "\n",
    "// 3) Book class\n",
    "class Book {\n",
    "    constructor(title, author, pages) {\n",
    "        this.title = title;\n",
    "        this.author = author;\n",
    "        this.pages = pages;\n",
    "        this.pagesRead = 0;\n",
    "    }\n",
    "\n",
    "    // 4) read method\n",
    "    read(pages) {\n",
    "        this.pagesRead += pages;\n",
    "        console.log(`You read ${pages} pages of \"${this.title}\". Total read: ${this.pagesRead}`);\n",
    "    }\n",
    "\n",
    "    // 5) isLongBook method\n",
    "    isLongBook() {\n",
    "        return this.pages > 300;\n",
    "    }\n",
    "}\n",
    "\n",
    "// Test Book\n",
    "const book1 = new Book(\"JavaScript Basics\", \"Billy bobbbbbbbb\", 350);\n",
    "console.log(book1);\n",
    "book1.read(50);\n",
    "console.log(\"Is it a long book? \" + book1.isLongBook());\n",
    "\n",
    "// 6) Car class\n",
    "class Car {\n",
    "    constructor(make, model, fuel) {\n",
    "        this.make = make;\n",
    "        this.model = model;\n",
    "        this.fuel = fuel; // in liters\n",
    "    }\n",
    "\n",
    "    drive(distance) {\n",
    "        let fuelUsed = distance / 10; // assume 10 km per liter\n",
    "        this.fuel -= fuelUsed;\n",
    "        console.log(`Drove ${distance} km. Fuel left: ${this.fuel.toFixed(2)} liters`);\n",
    "    }\n",
    "\n",
    "    refuel(amount) {\n",
    "        this.fuel += amount;\n",
    "        console.log(`Refueled ${amount} liters. Fuel now: ${this.fuel.toFixed(2)} liters`);\n",
    "    }\n",
    "\n",
    "    // 7) static info method\n",
    "    static info() {\n",
    "        console.log(\"Cars are vehicles.\");\n",
    "    }\n",
    "}\n",
    "\n",
    "// Test Car\n",
    "const car1 = new Car(\"Toyota\", \"Corolla\", 50);\n",
    "console.log(car1);\n",
    "car1.drive(100);\n",
    "car1.refuel(20);\n",
    "Car.info();\n",
    "\n",
    "// 8) ElectricCar subclass\n",
    "class ElectricCar extends Car {\n",
    "    constructor(make, model, fuel, battery) {\n",
    "        super(make, model, fuel);\n",
    "        this.battery = battery; // percentage\n",
    "    }\n",
    "\n",
    "    charge(amount) {\n",
    "        this.battery += amount;\n",
    "        if (this.battery > 100) this.battery = 100;\n",
    "        console.log(`Charged battery. Battery level: ${this.battery}%`);\n",
    "    }\n",
    "}\n",
    "\n",
    "// Test ElectricCar\n",
    "const eCar1 = new ElectricCar(\"Tesla\", \"Model 3\", 0, 50);\n",
    "console.log(eCar1);\n",
    "eCar1.charge(30);\n",
    "\n",
    "// 10) Routine combining objects\n",
    "console.log(\"\\n--- Routine ---\");\n",
    "car1.drive(50);\n",
    "eCar1.charge(20);\n",
    "book1.read(30);\n",
    "person1.greet();"
   ]
  },
  {
   "cell_type": "code",
   "execution_count": null,
   "id": "79ffddb1",
   "metadata": {
    "vscode": {
     "languageId": "javascript"
    }
   },
   "outputs": [],
   "source": []
  }
 ],
 "metadata": {
  "kernelspec": {
   "display_name": "venv (3.12.3)",
   "language": "python",
   "name": "python3"
  },
  "language_info": {
   "codemirror_mode": {
    "name": "ipython",
    "version": 3
   },
   "file_extension": ".py",
   "mimetype": "text/x-python",
   "name": "python",
   "nbconvert_exporter": "python",
   "pygments_lexer": "ipython3",
   "version": "3.12.3"
  }
 },
 "nbformat": 4,
 "nbformat_minor": 5
}
