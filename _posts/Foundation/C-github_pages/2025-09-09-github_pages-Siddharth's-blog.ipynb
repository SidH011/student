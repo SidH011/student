{
 "cells": [
  {
   "cell_type": "markdown",
   "id": "82efe963",
   "metadata": {},
   "source": [
    "# Siddharth's Blog\n",
    "Welcome to Siddharth's personal blog notebook!\n",
    "---\n",
    "## Set Up Blog Metadata\n",
    "Define variables for blog metadata such as title, author, and date.\n"
   ]
  },
  {
   "cell_type": "code",
   "execution_count": null,
   "id": "ab346d99",
   "metadata": {},
   "outputs": [],
   "source": [
    "# Blog Metadata\n",
    "blog_title = \"Siddharth's Blog\"\n",
    "author = \"Siddharth H.\"\n",
    "date = \"2025-09-09\"\n"
   ]
  },
  {
   "cell_type": "markdown",
   "id": "9be151ce",
   "metadata": {},
   "source": [
    "# Siddharth's Blog\n"
   ]
  },
  {
   "cell_type": "markdown",
   "id": "492a1b25",
   "metadata": {},
   "source": [
    "**Author:** Siddharth H.  \n",
    "**Date:** September 9, 2025\n"
   ]
  },
  {
   "cell_type": "markdown",
   "id": "c840aa60",
   "metadata": {},
   "source": [
    "## Blog Post\n",
    "Welcome to my first blog post in this notebook! Here, I'll share thoughts, ideas, and code snippets.\n"
   ]
  },
  {
   "cell_type": "markdown",
   "id": "e76721f7",
   "metadata": {},
   "source": [
    "### Today's Topics\n",
    "- Jupyter Notebooks for blogging\n",
    "- Markdown formatting\n",
    "- Sharing code and images\n",
    "\n",
    "**Tip:** Use markdown for easy formatting and organization!\n"
   ]
  },
  {
   "cell_type": "markdown",
   "id": "d16e5bcc",
   "metadata": {},
   "source": [
    "### Adding Images\n",
    "You can embed images using markdown:\n",
    "\n",
    "![Sample Image](https://upload.wikimedia.org/wikipedia/commons/thumb/4/47/PNG_transparency_demonstration_1.png/640px-PNG_transparency_demonstration_1.png)\n"
   ]
  },
  {
   "cell_type": "code",
   "execution_count": null,
   "id": "ad302b56",
   "metadata": {},
   "outputs": [],
   "source": [
    "# Example code snippet\n",
    "for i in range(5):\n",
    "    print(f\"Hello from Siddharth's Blog! Iteration {i}\")\n"
   ]
  }
 ],
 "metadata": {
  "language_info": {
   "name": "python"
  }
 },
 "nbformat": 4,
 "nbformat_minor": 5
}
